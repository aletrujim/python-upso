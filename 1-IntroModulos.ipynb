{
  "nbformat": 4,
  "nbformat_minor": 0,
  "metadata": {
    "colab": {
      "provenance": [],
      "authorship_tag": "ABX9TyP738fpK3VKRbN9RLx/jQ7/",
      "include_colab_link": true
    },
    "kernelspec": {
      "name": "python3",
      "display_name": "Python 3"
    },
    "language_info": {
      "name": "python"
    }
  },
  "cells": [
    {
      "cell_type": "markdown",
      "metadata": {
        "id": "view-in-github",
        "colab_type": "text"
      },
      "source": [
        "<a href=\"https://colab.research.google.com/github/aletrujim/python-upso/blob/main/1_IntroModulos.ipynb\" target=\"_parent\"><img src=\"https://colab.research.google.com/assets/colab-badge.svg\" alt=\"Open In Colab\"/></a>"
      ]
    },
    {
      "cell_type": "markdown",
      "source": [
        "#<center>Programación Python Avanzada</center>#\n",
        "\n",
        "<center>Tecnicatura Universitaria en Tecnologías de Programación</center>\t\t\n",
        "<center>UNIVERSIDAD PROVINCIAL DEL SUDOESTE</center>"
      ],
      "metadata": {
        "id": "0bZ2yQgK4fOl"
      }
    },
    {
      "cell_type": "markdown",
      "source": [
        "**DOCENTES:**\n",
        "\n",
        "*   Alexandra Trujillo-Jiménez\n",
        "\n",
        "**AUXILIARES:**\n",
        "\n",
        "*   Alan Luis Valdivia\n",
        "*   Juan Pablo Tavacchi\n",
        "*   Carlos Caseres\n"
      ],
      "metadata": {
        "id": "hwFkx1TnBQ8Q"
      }
    },
    {
      "cell_type": "markdown",
      "source": [
        "**DESCRIPCIÓN:**\n",
        "\n",
        "El objetivo de esta materia es brindar a los alumnos herramientas avanzadas de la programación en Python. De esta forma, ampliarán el campo de conocimiento y serán capaces de aplicar la programación a la resolución de diferentes problemáticas.\n",
        "Entre los puntos a destacar, los alumnos podrán obtener, procesar y analizar información de diferente índole y fuentes, así como hacer procesamiento básico de imágenes. A modo de mejorar aún más el análisis, se aplicarán técnicas de clasificación de machine learning. También tendrán la capacidad de poder mostrar los resultados de los procesamientos haciendo uso de diferentes tipos de gráficos.\n",
        "La orientación de la materia está principalmente abocada al conocimiento, demostración y ejercitación de las diferentes herramientas propuestas mediante la resolución de problemáticas reales."
      ],
      "metadata": {
        "id": "pXnzVPX05kKm"
      }
    },
    {
      "cell_type": "markdown",
      "source": [
        "**HORARIO:**\n",
        "\n",
        "**Teoría / práctica:** Martes de 18 a 22 hs\n",
        "\n",
        "**Práctica / Consulta:** Lunes de 20 a 22 hs"
      ],
      "metadata": {
        "id": "jPUM7fvgat3p"
      }
    },
    {
      "cell_type": "markdown",
      "source": [
        "**CRONOGRAMA:**\n",
        "\n",
        "https://drive.google.com/file/d/1sXu_gLA2GP150ioMO5ix9i2HcLCwXc8q/view?usp=sharing"
      ],
      "metadata": {
        "id": "_AJfuWJM71pE"
      }
    },
    {
      "cell_type": "markdown",
      "source": [
        "**ANALÍTICO:**\n",
        "\n",
        "INTRODUCCIÓN:\n",
        "*   Presentación de la materia. \n",
        "*   Google Colab. Repaso de introducción a Python.\n",
        "\n",
        "UNIDAD TEMÁTICA I: Módulos / Paquetes o Librerias\n",
        "*   Repaso funciones, clases, herencia.\n",
        "*   Introducción a los módulos. Creación, estructura y componentes.\n",
        "\n",
        "UNIDAD TEMÁTICA II: Manejo y análisis de datos\n",
        "*   Arreglos unidimensionales y multidimensionales.   Operaciones entre arreglos. Redimensionamiento. Conversiones de tipos. Concatenación. Generación de arreglos aleatorios y de secuencias de datos. Comparación de arreglos. \n",
        "*   Conjuntos de datos. Carga desde archivos. Creación de dataframes. Indexación. Series temporales. Ordenación. Filtrado. Aplicación de funciones. Análisis de los datos. Modificación del conjunto de datos.\n",
        "*   <font color='blue'>Numpy, Pandas</font>\n",
        "\n",
        "UNIDAD TEMÁTICA III: Visualización de datos\n",
        "*   Tipos de gráficos. Gráficos de líneas, barras y puntos. Estilos y personalización. \n",
        "*   Graficación múltiple y subplots. Variables numéricas y categóricas.\n",
        "*   <font color='blue'>Matplotlib, Seaborn</font>\n",
        "\n",
        "UNIDAD TEMÁTICA IV: Procesamiento de Imágenes\n",
        "*   Carga y almacenamiento de imágenes. Atributos. Redimensionamiento. Recortes. Rotación y espejado. Mezclado y unión de imágenes. Aplicación de filtros.\n",
        "*   <font color='blue'>Pillow, OpenCV, Scikit Image</font>\n",
        "\n",
        "UNIDAD TEMÁTICA V: Machine Learning\n",
        "*   Adecuación de datos. Clasificación supervisada y no supervisada. Entrenamiento. \n",
        "*   Métricas. Testeo. Predicción.\n",
        "*   <font color='blue'>Scikit Learn</font>\n",
        "\n",
        "UNIDAD TEMÁTICA VI: Análisis de páginas web\n",
        "*   Estructura del código fuente. Obtención del código. Análisis y extracción de información.\n",
        "*   <font color='blue'>BeautifulSoup, Selenium</font>"
      ],
      "metadata": {
        "id": "vIrMkNcI61VF"
      }
    },
    {
      "cell_type": "markdown",
      "source": [
        "# **INTRODUCCIÓN**:"
      ],
      "metadata": {
        "id": "wXx27D-jDdoc"
      }
    },
    {
      "cell_type": "markdown",
      "source": [
        "![py](https://www.python.org/static/community_logos/python-logo.png)\n",
        "\n",
        "*   Lenguaje de programación interpretado: Por lo que funciona en cualquier tipo de sistema que integre Python / no requiere compilador\n",
        "*   Multiplataforma: Linux, Windows, IOS...\n",
        "*   Libre y de código abierto / Comunidad activa\n",
        "\n"
      ],
      "metadata": {
        "id": "SkXT4Ii0FX3R"
      }
    },
    {
      "cell_type": "markdown",
      "source": [
        "IDEs: Integrated development environment (Entorno de desarrollo integrado)\n",
        "\n",
        "<img src=\"https://res.cloudinary.com/dyd911kmh/image/upload/f_auto,q_auto:best/v1561996940/ide1_ol5h4k.png\" alt=\"drawing\" width=\"500\"/>\n",
        "\n",
        "![pop](https://res.cloudinary.com/dyd911kmh/image/upload/f_auto,q_auto:best/v1561996940/ide3_zy6tat.jpg)"
      ],
      "metadata": {
        "id": "vLOyUf3cGmK6"
      }
    },
    {
      "cell_type": "markdown",
      "source": [
        "### Colab\n",
        "\n",
        "Entorno interactivo denominado cuaderno de Colab que te permite escribir y ejecutar código.\n",
        "\n",
        "Colab (Colaboratory),te permite programar y ejecutar Python (y otros lenguajes) en tu navegador con las siguientes ventajas: \n",
        "\n",
        "- Permite compartir contenido fácilmente\n",
        "- No requiere configuración\n",
        "- Da acceso gratuito a GPUs (computación acelerada)"
      ],
      "metadata": {
        "id": "QHDMGps2JW0q"
      }
    },
    {
      "cell_type": "code",
      "source": [
        "print('Hola mundo!')"
      ],
      "metadata": {
        "colab": {
          "base_uri": "https://localhost:8080/"
        },
        "id": "mTaaJVALGlpE",
        "outputId": "96a02129-80aa-4793-8561-71466eb19252"
      },
      "execution_count": null,
      "outputs": [
        {
          "output_type": "stream",
          "name": "stdout",
          "text": [
            "Hola mundo!\n"
          ]
        }
      ]
    },
    {
      "cell_type": "code",
      "source": [
        "5 + 6"
      ],
      "metadata": {
        "colab": {
          "base_uri": "https://localhost:8080/"
        },
        "id": "zGjcfExO__qZ",
        "outputId": "d5ffc49a-5701-40c1-b33e-a25a7a756934"
      },
      "execution_count": null,
      "outputs": [
        {
          "output_type": "execute_result",
          "data": {
            "text/plain": [
              "11"
            ]
          },
          "metadata": {},
          "execution_count": 2
        }
      ]
    },
    {
      "cell_type": "markdown",
      "source": [
        "<img src=\"https://naps.com.mx/blog/wp-content/uploads/2020/06/Funciones-en-Python.-Estructura-de-una-funci%C3%B3n.png\" alt=\"drawing\" width=\"500\"/>"
      ],
      "metadata": {
        "id": "LzIQMx0x92QP"
      }
    },
    {
      "cell_type": "code",
      "source": [
        "def suma(a,b):\n",
        "  resultado = a + b\n",
        "  return resultado"
      ],
      "metadata": {
        "id": "M0c5McIB-ZQ-"
      },
      "execution_count": null,
      "outputs": []
    },
    {
      "cell_type": "code",
      "source": [
        "suma(5,6)"
      ],
      "metadata": {
        "colab": {
          "base_uri": "https://localhost:8080/"
        },
        "id": "EU7RLgr_-jN3",
        "outputId": "89cc29c2-495f-4cdb-87ff-55b02e020dcb"
      },
      "execution_count": null,
      "outputs": [
        {
          "output_type": "execute_result",
          "data": {
            "text/plain": [
              "11"
            ]
          },
          "metadata": {},
          "execution_count": 4
        }
      ]
    },
    {
      "cell_type": "code",
      "source": [
        "def fecha_nacimiento(edad):\n",
        "  return 2022 - edad"
      ],
      "metadata": {
        "id": "d-w8Ow52DVpO"
      },
      "execution_count": null,
      "outputs": []
    },
    {
      "cell_type": "code",
      "source": [
        "print(fecha_nacimiento(20))"
      ],
      "metadata": {
        "colab": {
          "base_uri": "https://localhost:8080/"
        },
        "id": "uDKF5PS7Axdc",
        "outputId": "97c4fdc1-64cd-45ca-e91b-260333f0a45d"
      },
      "execution_count": null,
      "outputs": [
        {
          "output_type": "stream",
          "name": "stdout",
          "text": [
            "2002\n"
          ]
        }
      ]
    },
    {
      "cell_type": "markdown",
      "source": [
        "**Ejercicio:**\n",
        "\n",
        "Cree una función llamada Convertir_A_Segundos que reciba una cantidad de horas, minutos y segundos, y calcule a cuantos segundos corresponde.\n",
        "\n",
        "*   Parámetros de entrada: hora, minutos y segundos\n",
        "*   Dato devuelto: Segundos totales"
      ],
      "metadata": {
        "id": "GkpbV8s2L3A7"
      }
    },
    {
      "cell_type": "code",
      "source": [
        "def Convertir_A_Segundos(h,m,s):\n",
        "\treturn h * 3600 + m * 60 + s"
      ],
      "metadata": {
        "id": "-IrA-3dRLs8Z"
      },
      "execution_count": null,
      "outputs": []
    },
    {
      "cell_type": "code",
      "source": [
        "Convertir_A_Segundos(9,10,30)"
      ],
      "metadata": {
        "colab": {
          "base_uri": "https://localhost:8080/"
        },
        "id": "xHMU69k5E4fc",
        "outputId": "53887641-ba0c-4f22-b260-c94b5a59b3c5"
      },
      "execution_count": null,
      "outputs": [
        {
          "output_type": "execute_result",
          "data": {
            "text/plain": [
              "33030"
            ]
          },
          "metadata": {},
          "execution_count": 8
        }
      ]
    },
    {
      "cell_type": "markdown",
      "source": [
        "**Ejercicio:**\n",
        "\n",
        "Función Convertir_A_HMS: Recibe una cantidad de segundos y debe calcular a que hora, minutos y segundos corresponde \n",
        "* Parámetros de entrada: segundos\n",
        "* Valores de salida: hora,minutos y segundos\n",
        "\n"
      ],
      "metadata": {
        "id": "z_aanVxgFQJd"
      }
    },
    {
      "cell_type": "code",
      "source": [
        "def Convertir_A_HMS(seg):\n",
        "\t# Horas = Divisíón entera de los segundos entre 3600\n",
        "\th = seg//3600\n",
        "\t# Decremento los segundos que me quedan por convertir\n",
        "\tseg = seg - h*3600\n",
        "\t# Minutos = División entera de los segundos entre 60\n",
        "\tm = seg//60\n",
        "\t# Decremento los segundos que me quedan por convertir\n",
        "\tseg = seg - m*60\n",
        "\t# Lo que me quedan corresponden a los segundos\n",
        "\ts = seg\n",
        "\treturn h,m,s"
      ],
      "metadata": {
        "id": "DkJxLdifFOv2"
      },
      "execution_count": null,
      "outputs": []
    },
    {
      "cell_type": "code",
      "source": [
        "Convertir_A_HMS(50000)"
      ],
      "metadata": {
        "colab": {
          "base_uri": "https://localhost:8080/"
        },
        "id": "dvilBHL6FdQk",
        "outputId": "7da4bb24-a67f-4a28-fd6d-559bb5b85c73"
      },
      "execution_count": null,
      "outputs": [
        {
          "output_type": "execute_result",
          "data": {
            "text/plain": [
              "(13, 53, 20)"
            ]
          },
          "metadata": {},
          "execution_count": 10
        }
      ]
    },
    {
      "cell_type": "markdown",
      "source": [
        "**Ejercicios prácticos:**\n",
        "\n",
        "1. Función esmultiplo: Recibe dos número e indica si el primero el múltiplo del segundo. Para ello calculo el resto de la división, si es 0 es múltiplo.\n",
        "* Parámetros de entrada: dos números\n",
        "* Dato devuelto: múltiplo: Valor lógico verdadero si el primero es múltiplo del segundo, Falso en caso contrario.\n",
        "\n",
        "2. Crea un programa que pida dos número enteros al usuario y diga si alguno de ellos es múltiplo del otro. Crea una función EsMultiplo que reciba los dos números, y devuelve si el primero es múltiplo del segundo."
      ],
      "metadata": {
        "id": "UH50Itq5F0YL"
      }
    },
    {
      "cell_type": "code",
      "source": [
        "def esmultiplo(num1,num2):\n",
        "\tif num1 % num2 == 0:\n",
        "\t\treturn True\n",
        "\telse:\n",
        "\t\treturn False"
      ],
      "metadata": {
        "id": "PF7TORIJF8fr"
      },
      "execution_count": null,
      "outputs": []
    },
    {
      "cell_type": "code",
      "source": [
        "numero1 = int(input(\"Número 1:\"))\n",
        "numero2 = int(input(\"Número 2:\"))\n",
        "if esmultiplo(numero1,numero2):\n",
        "\tprint(numero1,\"es múltiplo de\",numero2)\n",
        "else:\n",
        "\tprint(numero1,\"no es múltiplo de\",numero2)"
      ],
      "metadata": {
        "colab": {
          "base_uri": "https://localhost:8080/"
        },
        "id": "qNMj-rcVGVCr",
        "outputId": "4a0f0d52-b3dd-4638-f1b0-06019760cbce"
      },
      "execution_count": null,
      "outputs": [
        {
          "output_type": "stream",
          "name": "stdout",
          "text": [
            "Número 1:5\n",
            "Número 2:4\n",
            "5 no es múltiplo de 4\n"
          ]
        }
      ]
    },
    {
      "cell_type": "markdown",
      "source": [
        "#<center>¿qué pasa si quiero reutilizar ese código?</center>\n"
      ],
      "metadata": {
        "id": "7WfEAgroqHT7"
      }
    },
    {
      "cell_type": "markdown",
      "source": [
        "# **UNIDAD TEMÁTICA I: Módulos (bibliotecas / \"librerias\") y Paquetes**"
      ],
      "metadata": {
        "id": "TtMJ3ZJK6LY3"
      }
    },
    {
      "cell_type": "markdown",
      "source": [
        "Un módulo en Python es un archio/fichero .py que alberga un conjunto de funciones, variables o clases y que puede ser usado (importado) por otros módulos. Nos permiten reutilizar código y organizarlo mejor. \n",
        "\n",
        "Ejemplo **math** que contiene funciones matematicas.\n",
        "\n",
        "https://docs.python.org/3/library/math.html"
      ],
      "metadata": {
        "id": "ZzWTjL-Lq65N"
      }
    },
    {
      "cell_type": "code",
      "source": [
        "import math"
      ],
      "metadata": {
        "id": "4H7gE7Qmr4AH"
      },
      "execution_count": null,
      "outputs": []
    },
    {
      "cell_type": "code",
      "source": [
        "math.pi"
      ],
      "metadata": {
        "colab": {
          "base_uri": "https://localhost:8080/"
        },
        "id": "iLErQ62zr6Il",
        "outputId": "21bd9345-0892-49b6-eb56-b6ebbfa3d8c0"
      },
      "execution_count": null,
      "outputs": [
        {
          "output_type": "execute_result",
          "data": {
            "text/plain": [
              "3.141592653589793"
            ]
          },
          "metadata": {},
          "execution_count": 12
        }
      ]
    },
    {
      "cell_type": "code",
      "source": [
        "math.log(5)"
      ],
      "metadata": {
        "colab": {
          "base_uri": "https://localhost:8080/"
        },
        "id": "WNM82KjHsg25",
        "outputId": "337faaff-b58e-4d12-a023-79fa5f7f8efd"
      },
      "execution_count": null,
      "outputs": [
        {
          "output_type": "execute_result",
          "data": {
            "text/plain": [
              "1.6094379124341003"
            ]
          },
          "metadata": {},
          "execution_count": 13
        }
      ]
    },
    {
      "cell_type": "markdown",
      "source": [
        "**Crear módulos:**\n",
        "\n",
        "Podemos abrir cualquier editor (incluído el que trae el propio jupyter), o alternativamente podemos preceder la celda con la \"función magic\" (que aporta Jupyter y se denotan por empezar con % o %%), en este caso **%%writefile**\n",
        "\n",
        "El resultado es dejar un archivo llamado *mimodulo.py* con el código de nuestra función en el mismo directorio donde tenemos el notebook (este.ipynb)"
      ],
      "metadata": {
        "id": "UOez0nLAuKfZ"
      }
    },
    {
      "cell_type": "code",
      "source": [
        "def edad(self):\n",
        "  return 2022 - self"
      ],
      "metadata": {
        "id": "wv3YLQpEu2bK"
      },
      "execution_count": null,
      "outputs": []
    },
    {
      "cell_type": "code",
      "source": [
        "edad(2004)"
      ],
      "metadata": {
        "colab": {
          "base_uri": "https://localhost:8080/"
        },
        "id": "ffXiwGXZvA9Y",
        "outputId": "7da88d10-954c-4bb6-8f82-56da2fe27316"
      },
      "execution_count": null,
      "outputs": [
        {
          "output_type": "execute_result",
          "data": {
            "text/plain": [
              "18"
            ]
          },
          "metadata": {},
          "execution_count": 22
        }
      ]
    },
    {
      "cell_type": "code",
      "source": [
        "def adultez(self):\n",
        "  if self <= 2004:\n",
        "    return \"adulto\"\n",
        "  else:\n",
        "    return \"infante\""
      ],
      "metadata": {
        "id": "nEyYn-4VwwvM"
      },
      "execution_count": null,
      "outputs": []
    },
    {
      "cell_type": "code",
      "source": [
        "adultez(2019)"
      ],
      "metadata": {
        "colab": {
          "base_uri": "https://localhost:8080/",
          "height": 36
        },
        "id": "PHQT4VfXw442",
        "outputId": "ac0aa7c1-5f74-424e-bd54-270d84588dc4"
      },
      "execution_count": null,
      "outputs": [
        {
          "output_type": "execute_result",
          "data": {
            "text/plain": [
              "'infante'"
            ],
            "application/vnd.google.colaboratory.intrinsic+json": {
              "type": "string"
            }
          },
          "metadata": {},
          "execution_count": 24
        }
      ]
    },
    {
      "cell_type": "code",
      "source": [
        "%%writefile mimodulo2.py \n",
        "#La funcion edad recibe el año de nacimiento y \n",
        "#retorna el calculo de la edad \n",
        "\n",
        "def edad(self):\n",
        "  return 2022 - self"
      ],
      "metadata": {
        "colab": {
          "base_uri": "https://localhost:8080/"
        },
        "id": "awZkDuz5qgaz",
        "outputId": "9df5b635-5a19-498e-d7f6-85c7302f20b4"
      },
      "execution_count": null,
      "outputs": [
        {
          "output_type": "stream",
          "name": "stdout",
          "text": [
            "Writing mimodulo2.py\n"
          ]
        }
      ]
    },
    {
      "cell_type": "markdown",
      "source": [
        "**Importar módulos:**\n",
        "\n",
        "Lo hemos guardado en un archivo *edad.py* en el directorio donde estamos trabajando... entonces directamente podemos importar ese módulo.\n",
        "\n",
        "Para importar el módulo usamos la palabra clave **import** y el nombre del archivo"
      ],
      "metadata": {
        "id": "LnRQRS2bxWZK"
      }
    },
    {
      "cell_type": "code",
      "source": [
        "import mimodulo"
      ],
      "metadata": {
        "id": "f9-gHM0Guv-b"
      },
      "execution_count": null,
      "outputs": []
    },
    {
      "cell_type": "code",
      "source": [
        "mimodulo.edad(1990)"
      ],
      "metadata": {
        "colab": {
          "base_uri": "https://localhost:8080/"
        },
        "id": "GxUWWR7vwgpp",
        "outputId": "2de40fdf-0120-40dd-bad3-152bcb81e71f"
      },
      "execution_count": null,
      "outputs": [
        {
          "output_type": "execute_result",
          "data": {
            "text/plain": [
              "32"
            ]
          },
          "metadata": {},
          "execution_count": 32
        }
      ]
    },
    {
      "cell_type": "code",
      "source": [
        "mimodulo.adultez(1987)"
      ],
      "metadata": {
        "colab": {
          "base_uri": "https://localhost:8080/",
          "height": 36
        },
        "id": "OXCk7KyoyE7k",
        "outputId": "f4cbc030-2c59-4098-c449-84f5bca2ab4e"
      },
      "execution_count": null,
      "outputs": [
        {
          "output_type": "execute_result",
          "data": {
            "text/plain": [
              "'adulto'"
            ],
            "application/vnd.google.colaboratory.intrinsic+json": {
              "type": "string"
            }
          },
          "metadata": {},
          "execution_count": 33
        }
      ]
    },
    {
      "cell_type": "markdown",
      "source": [
        "Importar un módulo es importar un \"espacio de nombres\", donde todo lo que el módulo contenga (funciones, clases, constantes, etc.) se accederá como un atributo del módulo de la forma módulo.<objeto>\n",
        "\n",
        "Cuando el nombre del espacio de nombres es muy largo, podemos ponerle un alias"
      ],
      "metadata": {
        "id": "tQqdcSO7yQ-b"
      }
    },
    {
      "cell_type": "code",
      "source": [
        "import mimodulo"
      ],
      "metadata": {
        "id": "JgdIzHrPtxwC"
      },
      "execution_count": null,
      "outputs": []
    },
    {
      "cell_type": "code",
      "source": [
        "import mimodulo as mimo "
      ],
      "metadata": {
        "id": "jwZVgV2tyIC9"
      },
      "execution_count": null,
      "outputs": []
    },
    {
      "cell_type": "code",
      "source": [
        "mimo.edad(2015)"
      ],
      "metadata": {
        "colab": {
          "base_uri": "https://localhost:8080/"
        },
        "id": "cwc-vhAMyWyb",
        "outputId": "56705e56-8fe3-47fd-f8a2-07e197df52aa"
      },
      "execution_count": null,
      "outputs": [
        {
          "output_type": "execute_result",
          "data": {
            "text/plain": [
              "7"
            ]
          },
          "metadata": {},
          "execution_count": 36
        }
      ]
    },
    {
      "cell_type": "markdown",
      "source": [
        "**Importar funciones de módulos:**\n",
        "\n",
        "Si, como sucede en general, el módulo definiera más de una unidad de código (una función, clase, constantes, etc.) podemos usar una tupla para importar varias cosas cosas al espacio de nombres actual. Por ejemplo:"
      ],
      "metadata": {
        "id": "YYCByKwlyhd7"
      }
    },
    {
      "cell_type": "code",
      "source": [
        "import mimodulo as mimo"
      ],
      "metadata": {
        "id": "BdFVvOjlvZRj"
      },
      "execution_count": null,
      "outputs": []
    },
    {
      "cell_type": "code",
      "source": [
        "from mimodulo import edad"
      ],
      "metadata": {
        "id": "gDF0bXi9vc02"
      },
      "execution_count": null,
      "outputs": []
    },
    {
      "cell_type": "code",
      "source": [
        "from mimodulo import edad, adultez"
      ],
      "metadata": {
        "id": "7gnUtjNnyZDA"
      },
      "execution_count": null,
      "outputs": []
    },
    {
      "cell_type": "markdown",
      "source": [
        "**Paquetes:** Módulos de módulos\n",
        "\n",
        "Cuando tenemos muchos módulos que están relacionados es bueno armar un paquete. Un paquete de modulos es un simple directorio con un módulo especial llamado __init__.py (que puede estar vacio) y tantos modulos y subpaquetes como queramos.\n",
        "\n",
        "Los paquetes se usan igual que un módulo. Por ejemplo, supongamos que tenemos una estructura:\n",
        "\n",
        "    paquete/\n",
        "      __init__.py\n",
        "      modulo.py"
      ],
      "metadata": {
        "id": "0X61xX94z4j2"
      }
    },
    {
      "cell_type": "markdown",
      "source": [
        "Para instalar paquetes (que no son nuestros o que Python no los provee) desde cualquier consola podemos hacerlo con el siguiente comando:\n",
        "\n",
        "> pip install nombre_del_paquete\n",
        "\n",
        "En el caso de Colab, se usa el simbolo **!** para determinar la ejecución en consola.\n",
        "\n",
        "Ejemplo:"
      ],
      "metadata": {
        "id": "OhbtPmOJ0OyD"
      }
    },
    {
      "cell_type": "code",
      "source": [
        "!pip install numpy"
      ],
      "metadata": {
        "colab": {
          "base_uri": "https://localhost:8080/"
        },
        "id": "xcDMrKYp0X4x",
        "outputId": "e81126b9-41b8-4539-ecc8-f390271511ae"
      },
      "execution_count": null,
      "outputs": [
        {
          "output_type": "stream",
          "name": "stdout",
          "text": [
            "Looking in indexes: https://pypi.org/simple, https://us-python.pkg.dev/colab-wheels/public/simple/\n",
            "Requirement already satisfied: numpy in /usr/local/lib/python3.7/dist-packages (1.21.6)\n"
          ]
        }
      ]
    },
    {
      "cell_type": "markdown",
      "source": [
        "Nota: Numpy ya viene en el Colab, pero vamos a ejecutar la instalación para aprender a hacerlo."
      ],
      "metadata": {
        "id": "TQVpM_Z40fGw"
      }
    },
    {
      "cell_type": "code",
      "source": [
        "import numpy as np"
      ],
      "metadata": {
        "id": "Rz73vfwH0sgk"
      },
      "execution_count": null,
      "outputs": []
    },
    {
      "cell_type": "markdown",
      "source": [
        "**Ejercicio:**\n",
        "\n",
        "Probar algunas funciones de módulos incorporados en python como por ejemplo:"
      ],
      "metadata": {
        "id": "k6GZYeBk1rVt"
      }
    },
    {
      "cell_type": "code",
      "source": [
        "import os\n",
        "import sys\n",
        "import math\n",
        "import statistics\n",
        "import string\n",
        "import random"
      ],
      "metadata": {
        "id": "wk03XGm2z_rH"
      },
      "execution_count": null,
      "outputs": []
    },
    {
      "cell_type": "code",
      "source": [
        "import os"
      ],
      "metadata": {
        "id": "lK0nhFCl3dTl"
      },
      "execution_count": null,
      "outputs": []
    },
    {
      "cell_type": "code",
      "source": [
        "math.exp(12)"
      ],
      "metadata": {
        "colab": {
          "base_uri": "https://localhost:8080/"
        },
        "id": "ppUQV_PtzFUf",
        "outputId": "8b02a59f-f9f0-4cc8-e752-b3a5acb6167e"
      },
      "execution_count": null,
      "outputs": [
        {
          "output_type": "execute_result",
          "data": {
            "text/plain": [
              "162754.79141900392"
            ]
          },
          "metadata": {},
          "execution_count": 57
        }
      ]
    }
  ]
}
